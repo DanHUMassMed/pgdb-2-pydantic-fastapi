{
 "cells": [
  {
   "cell_type": "code",
   "execution_count": null,
   "metadata": {},
   "outputs": [],
   "source": [
    "# import qrcode\n",
    "# from qrcode.constants import ERROR_CORRECT_L\n",
    "\n",
    "# # URL to encode\n",
    "# url = \"https://researcher.danhiggins.org/\"\n",
    "\n",
    "# qr = qrcode.QRCode(\n",
    "#     version=1,  # controls size (1 to 40), 1 is 21x21 matrix\n",
    "#     error_correction=ERROR_CORRECT_L,\n",
    "#     box_size=10,  # size of each box in pixels\n",
    "#     border=4,     # thickness of border (boxes)\n",
    "# )\n",
    "\n",
    "# qr.add_data(url)\n",
    "# qr.make(fit=True)\n",
    "\n",
    "# img = qr.make_image(fill_color=\"black\", back_color=\"white\")\n",
    "# img.save(\"custom_qrcode.png\")"
   ]
  },
  {
   "cell_type": "code",
   "execution_count": 1,
   "metadata": {},
   "outputs": [],
   "source": [
    "import sys\n",
    "sys.path.append('/Users/dan/Code/Python/pg_scaffold/generated')"
   ]
  },
  {
   "cell_type": "code",
   "execution_count": 2,
   "metadata": {},
   "outputs": [],
   "source": [
    "\n",
    "from app.core.db import SessionLocal\n",
    "\n",
    "db = SessionLocal()\n",
    "skip = 0\n",
    "limit = 100"
   ]
  },
  {
   "cell_type": "markdown",
   "metadata": {},
   "source": [
    "# Read Tests     "
   ]
  },
  {
   "cell_type": "code",
   "execution_count": 5,
   "metadata": {},
   "outputs": [
    {
     "ename": "TypeError",
     "evalue": "CRUDBase.get() got an unexpected keyword argument 'skip'",
     "output_type": "error",
     "traceback": [
      "\u001b[31m---------------------------------------------------------------------------\u001b[39m",
      "\u001b[31mTypeError\u001b[39m                                 Traceback (most recent call last)",
      "\u001b[36mCell\u001b[39m\u001b[36m \u001b[39m\u001b[32mIn[5]\u001b[39m\u001b[32m, line 4\u001b[39m\n\u001b[32m      1\u001b[39m \u001b[38;5;28;01mfrom\u001b[39;00m\u001b[38;5;250m \u001b[39m\u001b[34;01mapp\u001b[39;00m\u001b[34;01m.\u001b[39;00m\u001b[34;01mcrud\u001b[39;00m\u001b[38;5;250m \u001b[39m\u001b[38;5;28;01mimport\u001b[39;00m user\n\u001b[32m      2\u001b[39m \u001b[38;5;28;01mfrom\u001b[39;00m\u001b[38;5;250m \u001b[39m\u001b[34;01mapp\u001b[39;00m\u001b[34;01m.\u001b[39;00m\u001b[34;01mschemas\u001b[39;00m\u001b[34;01m.\u001b[39;00m\u001b[34;01muser\u001b[39;00m\u001b[38;5;250m \u001b[39m\u001b[38;5;28;01mimport\u001b[39;00m UserRead \n\u001b[32m----> \u001b[39m\u001b[32m4\u001b[39m db_objs = user.crud.get(db, skip=skip, limit=limit)\n\u001b[32m      5\u001b[39m \u001b[38;5;28mprint\u001b[39m(db_objs)\n",
      "\u001b[31mTypeError\u001b[39m: CRUDBase.get() got an unexpected keyword argument 'skip'"
     ]
    }
   ],
   "source": [
    "from app.crud import user\n",
    "from app.schemas.user import UserRead \n",
    "\n",
    "db_objs = user.crud.get(db, skip=skip, limit=limit)\n",
    "print(db_objs)\n"
   ]
  },
  {
   "cell_type": "code",
   "execution_count": null,
   "metadata": {},
   "outputs": [],
   "source": [
    "from app import schemas\n",
    "from app.schemas.poster import PosterWithRelations  \n",
    "# For Pydantic v2\n",
    "pydantic_objs = [PosterWithRelations.model_validate(o) for o in db_objs]\n",
    "\n",
    "\n",
    "for p in pydantic_objs:\n",
    "    print(p.model_dump())  \n"
   ]
  },
  {
   "cell_type": "code",
   "execution_count": null,
   "metadata": {},
   "outputs": [],
   "source": [
    "\n",
    "from app.crud import conference as crud\n",
    "from app.core.db import SessionLocal\n",
    "from app.schemas.conference import ConferenceRead  \n",
    "\n",
    "db = SessionLocal()\n",
    "db_objs = crud.conference.get_multi(db, skip=0, limit=100)\n",
    "print(db_objs)\n",
    "\n",
    "\n",
    "# For Pydantic v2\n",
    "pydantic_objs = [ConferenceRead.model_validate(o) for o in db_objs]\n",
    "\n",
    "for p in pydantic_objs:\n",
    "    print(p.model_dump())  # or use p.dict()"
   ]
  },
  {
   "cell_type": "markdown",
   "metadata": {},
   "source": [
    "## 1. Create Conference"
   ]
  },
  {
   "cell_type": "code",
   "execution_count": null,
   "metadata": {},
   "outputs": [],
   "source": [
    "conference = ConferencesCreate(\n",
    "    name=\"Comprehensive Test Conference\", \n",
    "    location=\"Virtual\", \n",
    "    start_date=datetime.date(2025, 9, 1), \n",
    "    end_date=datetime.date(2025, 9, 5)\n",
    ")\n",
    "\n",
    "db_conference = conferences.conferences.create(db, obj_in=conference)\n",
    "print(f\"Created conference: {db_conference.name}\")"
   ]
  },
  {
   "cell_type": "markdown",
   "metadata": {},
   "source": [
    "## 2. Create Attendees"
   ]
  },
  {
   "cell_type": "code",
   "execution_count": null,
   "metadata": {},
   "outputs": [],
   "source": [
    "attendee1 = AttendeesCreate(\n",
    "    first_name=\"Alice\", \n",
    "    last_name=\"Smith\", \n",
    "    email=\"alice.smith@example.com\", \n",
    "    conference_id=db_conference.id\n",
    ")\n",
    "db_attendee1 = attendees.create(db, obj_in=attendee1)\n",
    "print(f\"Created attendee: {db_attendee1.first_name} {db_attendee1.last_name}\")\n",
    "\n",
    "attendee2 = AttendeesCreate(\n",
    "    first_name=\"Bob\", \n",
    "    last_name=\"Johnson\", \n",
    "    email=\"bob.johnson@example.com\", \n",
    "    conference_id=db_conference.id\n",
    ")\n",
    "db_attendee2 = attendees.create(db, obj_in=attendee2)\n",
    "print(f\"Created attendee: {db_attendee2.first_name} {db_attendee2.last_name}\")"
   ]
  },
  {
   "cell_type": "markdown",
   "metadata": {},
   "source": [
    "## 3. Create Poster"
   ]
  },
  {
   "cell_type": "code",
   "execution_count": null,
   "metadata": {},
   "outputs": [],
   "source": [
    "poster = PostersCreate(\n",
    "    board_location=\"B2\", \n",
    "    poster_title=\"A Study of Test-Driven Development\", \n",
    "    creator_id=db_attendee1.id\n",
    ")\n",
    "db_poster = posters.create(db, obj_in=poster)\n",
    "print(f\"Created poster: {db_poster.poster_title}\")"
   ]
  },
  {
   "cell_type": "markdown",
   "metadata": {},
   "source": [
    "## 4. Create Judge"
   ]
  },
  {
   "cell_type": "code",
   "execution_count": null,
   "metadata": {},
   "outputs": [],
   "source": [
    "judge = JudgesCreate(person_id=db_attendee2.id, accepted=True)\n",
    "db_judge = judges.create(db, obj_in=judge)\n",
    "print(f\"Created judge from attendee: {db_attendee2.first_name} {db_attendee2.last_name}\")"
   ]
  },
  {
   "cell_type": "markdown",
   "metadata": {},
   "source": [
    "## 5. Create Judging Assignment"
   ]
  },
  {
   "cell_type": "code",
   "execution_count": null,
   "metadata": {},
   "outputs": [],
   "source": [
    "assignment = JudgingAssignmentsCreate(judge_id=db_judge.id, poster_id=db_poster.id)\n",
    "db_assignment = judging_assignments.create(db, obj_in=assignment)\n",
    "print(f\"Created judging assignment for judge {db_judge.id} and poster {db_poster.id}\")"
   ]
  },
  {
   "cell_type": "markdown",
   "metadata": {},
   "source": [
    "## 6. Create Criteria"
   ]
  },
  {
   "cell_type": "code",
   "execution_count": null,
   "metadata": {},
   "outputs": [],
   "source": [
    "criteria1 = CriteriaCreate(name=\"Clarity\", max_score=10)\n",
    "db_criteria1 = criteria.create(db, obj_in=criteria1)\n",
    "print(f\"Created criteria: {db_criteria1.name}\")\n",
    "\n",
    "criteria2 = CriteriaCreate(name=\"Methodology\", max_score=15)\n",
    "db_criteria2 = criteria.create(db, obj_in=criteria2)\n",
    "print(f\"Created criteria: {db_criteria2.name}\")"
   ]
  },
  {
   "cell_type": "markdown",
   "metadata": {},
   "source": [
    "## 7. Create Score"
   ]
  },
  {
   "cell_type": "code",
   "execution_count": null,
   "metadata": {},
   "outputs": [],
   "source": [
    "score = ScoresCreate(assignment_id=db_assignment.id, comment=\"Good work!\")\n",
    "db_score = scores.create(db, obj_in=score)\n",
    "print(f\"Created score for assignment {db_assignment.id}\")"
   ]
  },
  {
   "cell_type": "markdown",
   "metadata": {},
   "source": [
    "## 8. Create Score Criteria"
   ]
  },
  {
   "cell_type": "code",
   "execution_count": null,
   "metadata": {},
   "outputs": [],
   "source": [
    "score_crit1 = ScoreCriteriaCreate(score_id=db_score.id, criterion_id=db_criteria1.id, score=8)\n",
    "db_score_crit1 = score_criteria.create(db, obj_in=score_crit1)\n",
    "print(f\"Created score criteria for score {db_score.id} and criteria {db_criteria1.name}\")\n",
    "\n",
    "score_crit2 = ScoreCriteriaCreate(score_id=db_score.id, criterion_id=db_criteria2.id, score=12)\n",
    "db_score_crit2 = score_criteria.create(db, obj_in=score_crit2)\n",
    "print(f\"Created score criteria for score {db_score.id} and criteria {db_criteria2.name}\")"
   ]
  },
  {
   "cell_type": "markdown",
   "metadata": {},
   "source": [
    "## 9. Read, Update, and Delete"
   ]
  },
  {
   "cell_type": "code",
   "execution_count": null,
   "metadata": {},
   "outputs": [],
   "source": [
    "# Read\n",
    "print(\"--- Reading Data ---\")\n",
    "print(conferences.get(db, id=db_conference.id))\n",
    "print(attendees.get(db, id=db_attendee1.id))\n",
    "print(posters.get(db, id=db_poster.id))\n",
    "print(judges.get(db, id=db_judge.id))\n",
    "print(judging_assignments.get(db, id=db_assignment.id))\n",
    "print(criteria.get(db, id=db_criteria1.id))\n",
    "print(scores.get(db, id=db_score.id))\n",
    "print(score_criteria.get(db, id=db_score_crit1.id))\n",
    "\n",
    "# Update\n",
    "print(\"--- Updating Data ---\")\n",
    "updated_poster = posters.update(db, db_obj=db_poster, obj_in={\"poster_title\": \"An Updated Study of TDD\"})\n",
    "print(f\"Updated poster title: {updated_poster.poster_title}\")\n",
    "\n",
    "# Delete\n",
    "print(\"--- Deleting Data ---\")\n",
    "score_criteria.remove(db, id=db_score_crit1.id)\n",
    "score_criteria.remove(db, id=db_score_crit2.id)\n",
    "scores.remove(db, id=db_score.id)\n",
    "criteria.remove(db, id=db_criteria1.id)\n",
    "criteria.remove(db, id=db_criteria2.id)\n",
    "judging_assignments.remove(db, id=db_assignment.id)\n",
    "judges.remove(db, id=db_judge.id)\n",
    "posters.remove(db, id=db_poster.id)\n",
    "attendees.remove(db, id=db_attendee1.id)\n",
    "attendees.remove(db, id=db_attendee2.id)\n",
    "conferences.remove(db, id=db_conference.id)\n",
    "print(\"Data deleted.\")\n",
    "\n",
    "# Verify Deletion\n",
    "print(\"--- Verifying Deletion ---\")\n",
    "print(conferences.get(db, id=db_conference.id))\n",
    "print(attendees.get(db, id=db_attendee1.id))\n",
    "print(posters.get(db, id=db_poster.id))"
   ]
  }
 ],
 "metadata": {
  "kernelspec": {
   "display_name": "wormcat3-web",
   "language": "python",
   "name": "python3"
  },
  "language_info": {
   "codemirror_mode": {
    "name": "ipython",
    "version": 3
   },
   "file_extension": ".py",
   "mimetype": "text/x-python",
   "name": "python",
   "nbconvert_exporter": "python",
   "pygments_lexer": "ipython3",
   "version": "3.12.9"
  }
 },
 "nbformat": 4,
 "nbformat_minor": 4
}
