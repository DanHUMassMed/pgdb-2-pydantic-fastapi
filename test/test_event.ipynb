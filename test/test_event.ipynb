{
 "cells": [
  {
   "cell_type": "code",
   "execution_count": 1,
   "id": "29e6fb8c",
   "metadata": {},
   "outputs": [],
   "source": [
    "import sys\n",
    "sys.path.append('/Users/dan/Code/Python/pg_scaffold/generated')"
   ]
  },
  {
   "cell_type": "code",
   "execution_count": 2,
   "id": "9faeadc6",
   "metadata": {},
   "outputs": [],
   "source": [
    "\n",
    "from app.core.db import SessionLocal\n",
    "\n",
    "db = SessionLocal()\n",
    "skip = 0\n",
    "limit = 100"
   ]
  },
  {
   "cell_type": "code",
   "execution_count": 3,
   "id": "dd433f65",
   "metadata": {},
   "outputs": [],
   "source": [
    "\n",
    "from typing import List\n",
    "from fastapi import APIRouter, Depends, HTTPException, Query\n",
    "from sqlalchemy.orm import Session\n",
    "\n",
    "from app.crud.event import CRUDEvent\n",
    "from app.schemas.event import EventCreate, EventRead, EventUpdate, EventWithRelations\n",
    "\n"
   ]
  },
  {
   "cell_type": "code",
   "execution_count": 4,
   "id": "f9438db6",
   "metadata": {},
   "outputs": [
    {
     "name": "stdout",
     "output_type": "stream",
     "text": [
      "{\n",
      "  \"id\": 2,\n",
      "  \"user_id\": 1,\n",
      "  \"name\": \"Team Building Retreat\",\n",
      "  \"description\": \"Team Building Retreat Desc\",\n",
      "  \"event_tz\": \"America/New_York\",\n",
      "  \"start_date_time\": \"2025-10-21T21:41:41.426226Z\",\n",
      "  \"end_date_time\": \"2025-10-24T21:41:41.426226Z\",\n",
      "  \"location\": \"Lakeside Resort\",\n",
      "  \"affiliation\": \"Tech Corp\",\n",
      "  \"logo_path\": null,\n",
      "  \"desired_evals_per_submission\": 5,\n",
      "  \"desired_max_evals_per_evaluator\": 5,\n",
      "  \"created_at\": \"2025-10-22T21:41:41.426226\"\n",
      "}\n",
      "{\n",
      "  \"id\": 1,\n",
      "  \"user_id\": 1,\n",
      "  \"name\": \"Annual Conference\",\n",
      "  \"description\": \"Annual Conference Desc\",\n",
      "  \"event_tz\": \"America/New_York\",\n",
      "  \"start_date_time\": \"2025-10-08T21:41:41.426226Z\",\n",
      "  \"end_date_time\": \"2025-10-09T21:41:41.426226Z\",\n",
      "  \"location\": \"Conference Center\",\n",
      "  \"affiliation\": \"Tech Corp\",\n",
      "  \"logo_path\": null,\n",
      "  \"desired_evals_per_submission\": 5,\n",
      "  \"desired_max_evals_per_evaluator\": 5,\n",
      "  \"created_at\": \"2025-10-22T21:41:41.426226\"\n",
      "}\n",
      "{\n",
      "  \"id\": 3,\n",
      "  \"user_id\": 1,\n",
      "  \"name\": \"Webinar on AI\",\n",
      "  \"description\": \"Webinar on AI Desc\",\n",
      "  \"event_tz\": \"America/New_York\",\n",
      "  \"start_date_time\": \"2025-11-01T21:41:41.426226Z\",\n",
      "  \"end_date_time\": \"2025-11-03T21:41:41.426226Z\",\n",
      "  \"location\": \"Online\",\n",
      "  \"affiliation\": \"Tech Corp\",\n",
      "  \"logo_path\": null,\n",
      "  \"desired_evals_per_submission\": 5,\n",
      "  \"desired_max_evals_per_evaluator\": 5,\n",
      "  \"created_at\": \"2025-10-22T21:41:41.426226\"\n",
      "}\n"
     ]
    }
   ],
   "source": [
    "#Get events for user id\n",
    "\n",
    "errors = {}\n",
    "filters = [['user_id','eq',1]]\n",
    "service = CRUDEvent(db)\n",
    "response_objs = service.get_many_where(filters)\n",
    "\n",
    "# If we found an email check the password\n",
    "for response_obj in  response_objs:\n",
    "    print(response_obj.model_dump_json(indent=2))"
   ]
  },
  {
   "cell_type": "code",
   "execution_count": null,
   "id": "7eda3e20",
   "metadata": {},
   "outputs": [],
   "source": []
  }
 ],
 "metadata": {
  "kernelspec": {
   "display_name": "wormcat3-web",
   "language": "python",
   "name": "python3"
  },
  "language_info": {
   "codemirror_mode": {
    "name": "ipython",
    "version": 3
   },
   "file_extension": ".py",
   "mimetype": "text/x-python",
   "name": "python",
   "nbconvert_exporter": "python",
   "pygments_lexer": "ipython3",
   "version": "3.12.9"
  }
 },
 "nbformat": 4,
 "nbformat_minor": 5
}
