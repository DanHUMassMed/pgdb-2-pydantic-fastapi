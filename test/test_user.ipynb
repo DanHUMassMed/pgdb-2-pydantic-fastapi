{
 "cells": [
  {
   "cell_type": "code",
   "execution_count": 1,
   "id": "ee283d27",
   "metadata": {},
   "outputs": [],
   "source": [
    "import sys\n",
    "sys.path.append('/Users/dan/Code/Python/pg_scaffold/generated')"
   ]
  },
  {
   "cell_type": "code",
   "execution_count": 2,
   "id": "114e68e9",
   "metadata": {},
   "outputs": [],
   "source": [
    "\n",
    "from app.core.db import SessionLocal\n",
    "\n",
    "db = SessionLocal()\n",
    "skip = 0\n",
    "limit = 100"
   ]
  },
  {
   "cell_type": "code",
   "execution_count": 3,
   "id": "e0a3a367",
   "metadata": {},
   "outputs": [],
   "source": [
    "\n",
    "from typing import List\n",
    "from passlib.context import CryptContext\n",
    "from fastapi import APIRouter, Depends, HTTPException, Query\n",
    "from sqlalchemy.orm import Session\n",
    "\n",
    "from app.crud.user import CRUDUser\n",
    "from app.schemas import user as user_schema\n",
    "\n",
    "pwd_context = CryptContext(schemes=[\"argon2\"], deprecated=\"auto\")"
   ]
  },
  {
   "cell_type": "code",
   "execution_count": 4,
   "id": "049e434c",
   "metadata": {},
   "outputs": [
    {
     "name": "stdout",
     "output_type": "stream",
     "text": [
      "id=3 first_name='tom' last_name='foley' email='dphiggins3@gmail.com' password='$argon2id$v=19$m=65536,t=3,p=4$WSuldE7JOed8b23N2RvjHA$4N7zzKJ9zVcKZOsA10Swx1E1STo7bBDPKguAks5a6Ag' organization=None magic_link_token=None magic_link_expires_at=None last_login_at=None is_verified=False registered_at=datetime.datetime(2025, 10, 23, 12, 7, 24, 83742) role='user'\n"
     ]
    }
   ],
   "source": [
    "#Get user by email\n",
    "\n",
    "user_json = {\"email\": \"dphiggins3@gmail.com\"}\n",
    "\n",
    "errors = {}\n",
    "filters = {\"email\":user_json[\"email\"]}\n",
    "service = CRUDUser(db)\n",
    "user_objs = service.get_many_like(filters)\n",
    "\n",
    "# If we found an email check the password\n",
    "if user_objs:\n",
    "    user_obj = user_objs[0]\n",
    "    print(user_objs[0])"
   ]
  },
  {
   "cell_type": "code",
   "execution_count": null,
   "id": "2c16bdf6",
   "metadata": {},
   "outputs": [],
   "source": [
    "#Get user by id\n",
    "\n",
    "errors = {}\n",
    "service = CRUDUser(db)\n",
    "user_obj = service.get_by_id(id=3)\n",
    "print(user_obj)"
   ]
  },
  {
   "cell_type": "code",
   "execution_count": null,
   "id": "21af519b",
   "metadata": {},
   "outputs": [],
   "source": [
    "#Get all users\n",
    "\n",
    "errors = {}\n",
    "service = CRUDUser(db)\n",
    "user_objs = service.get_many()\n",
    "\n",
    "# If we found an email check the password\n",
    "if user_objs:\n",
    "    user_obj = user_objs[0]\n",
    "    print(user_objs[0])"
   ]
  },
  {
   "cell_type": "code",
   "execution_count": null,
   "id": "62e93fcc",
   "metadata": {},
   "outputs": [],
   "source": [
    "# Create a new user\n",
    "\n",
    "user_json = {\"first_name\":\"tom\",\n",
    "            \"last_name\": \"foley\",\n",
    "            \"email\": \"dphiggins4@gmail.com\",\n",
    "            \"password\": \"Password\"}\n",
    "\n",
    "\n",
    "user_json[\"password\"] = pwd_context.hash(user_json[\"password\"])\n",
    "\n",
    "db_obj = None\n",
    "try:\n",
    "    user_in = user_schema.UserCreate.model_validate(user_json)\n",
    "    service = CRUDUser(db)\n",
    "    db_obj = service.create(obj_in=user_in)\n",
    "except Exception as e:\n",
    "        db.rollback()  # Rollback the transaction in case of error\n",
    "        raise HTTPException(status_code=500, detail=str(e))\n",
    "\n",
    "print(db_obj)"
   ]
  },
  {
   "cell_type": "code",
   "execution_count": 9,
   "id": "d855f75e",
   "metadata": {},
   "outputs": [
    {
     "ename": "ValidationError",
     "evalue": "1 validation error for UserRead\n  Input should be a valid dictionary or object to extract fields from [type=model_attributes_type, input_value=None, input_type=NoneType]\n    For further information visit https://errors.pydantic.dev/2.11/v/model_attributes_type",
     "output_type": "error",
     "traceback": [
      "\u001b[31m---------------------------------------------------------------------------\u001b[39m",
      "\u001b[31mValidationError\u001b[39m                           Traceback (most recent call last)",
      "\u001b[36mCell\u001b[39m\u001b[36m \u001b[39m\u001b[32mIn[9]\u001b[39m\u001b[32m, line 5\u001b[39m\n\u001b[32m      3\u001b[39m errors = {}\n\u001b[32m      4\u001b[39m service = CRUDUser(db)\n\u001b[32m----> \u001b[39m\u001b[32m5\u001b[39m user_obj = service.get_by_id(\u001b[38;5;28mid\u001b[39m=\u001b[32m5\u001b[39m)\n\u001b[32m      6\u001b[39m \u001b[38;5;28mprint\u001b[39m(user_obj)\n",
      "\u001b[36mFile \u001b[39m\u001b[32m~/Code/Python/pg_scaffold/generated/app/crud/base.py:42\u001b[39m, in \u001b[36mCRUDBase.get_by_id\u001b[39m\u001b[34m(self, id)\u001b[39m\n\u001b[32m     40\u001b[39m query = \u001b[38;5;28mself\u001b[39m._get_first_hook(query)\n\u001b[32m     41\u001b[39m db_obj = query.filter(\u001b[38;5;28mself\u001b[39m.model.id == \u001b[38;5;28mid\u001b[39m).first()\n\u001b[32m---> \u001b[39m\u001b[32m42\u001b[39m \u001b[38;5;28;01mreturn\u001b[39;00m \u001b[38;5;28mself\u001b[39m.ReadSchema.model_validate(db_obj)\n",
      "\u001b[36mFile \u001b[39m\u001b[32m~/miniforge3/envs/wormcat3-web/lib/python3.12/site-packages/pydantic/main.py:703\u001b[39m, in \u001b[36mBaseModel.model_validate\u001b[39m\u001b[34m(cls, obj, strict, from_attributes, context, by_alias, by_name)\u001b[39m\n\u001b[32m    697\u001b[39m \u001b[38;5;28;01mif\u001b[39;00m by_alias \u001b[38;5;129;01mis\u001b[39;00m \u001b[38;5;28;01mFalse\u001b[39;00m \u001b[38;5;129;01mand\u001b[39;00m by_name \u001b[38;5;129;01mis\u001b[39;00m \u001b[38;5;129;01mnot\u001b[39;00m \u001b[38;5;28;01mTrue\u001b[39;00m:\n\u001b[32m    698\u001b[39m     \u001b[38;5;28;01mraise\u001b[39;00m PydanticUserError(\n\u001b[32m    699\u001b[39m         \u001b[33m'\u001b[39m\u001b[33mAt least one of `by_alias` or `by_name` must be set to True.\u001b[39m\u001b[33m'\u001b[39m,\n\u001b[32m    700\u001b[39m         code=\u001b[33m'\u001b[39m\u001b[33mvalidate-by-alias-and-name-false\u001b[39m\u001b[33m'\u001b[39m,\n\u001b[32m    701\u001b[39m     )\n\u001b[32m--> \u001b[39m\u001b[32m703\u001b[39m \u001b[38;5;28;01mreturn\u001b[39;00m \u001b[38;5;28mcls\u001b[39m.__pydantic_validator__.validate_python(\n\u001b[32m    704\u001b[39m     obj, strict=strict, from_attributes=from_attributes, context=context, by_alias=by_alias, by_name=by_name\n\u001b[32m    705\u001b[39m )\n",
      "\u001b[31mValidationError\u001b[39m: 1 validation error for UserRead\n  Input should be a valid dictionary or object to extract fields from [type=model_attributes_type, input_value=None, input_type=NoneType]\n    For further information visit https://errors.pydantic.dev/2.11/v/model_attributes_type"
     ]
    }
   ],
   "source": [
    "#Get user by id\n",
    "\n",
    "errors = {}\n",
    "service = CRUDUser(db)\n",
    "user_obj = service.get_by_id(id=5)\n",
    "print(user_obj)"
   ]
  },
  {
   "cell_type": "code",
   "execution_count": 6,
   "id": "95efba80",
   "metadata": {},
   "outputs": [
    {
     "name": "stdout",
     "output_type": "stream",
     "text": [
      "id=5 first_name='tommy' last_name='foley' email='dphiggins4@gmail.com' password='Password' organization=None magic_link_token=None magic_link_expires_at=None last_login_at=None is_verified=False registered_at=datetime.datetime(2025, 10, 23, 14, 50, 21, 683097) role='user'\n"
     ]
    }
   ],
   "source": [
    "#Update user\n",
    "user_json = {\"id\":5,\n",
    "             \"first_name\":\"tommy\",\n",
    "            \"last_name\": \"foley\",\n",
    "            \"email\": \"dphiggins4@gmail.com\",\n",
    "            \"password\": \"Password\"}\n",
    "service = CRUDUser(db)\n",
    "user_obj = service.update(obj_in=user_schema.UserUpdate.model_validate(user_json))\n",
    "print(user_obj)\n"
   ]
  },
  {
   "cell_type": "code",
   "execution_count": 8,
   "id": "69bf6f9d",
   "metadata": {},
   "outputs": [
    {
     "name": "stdout",
     "output_type": "stream",
     "text": [
      "id=5 first_name='tommy' last_name='foley' email='dphiggins4@gmail.com' password='Password' organization=None magic_link_token=None magic_link_expires_at=None last_login_at=None is_verified=False registered_at=datetime.datetime(2025, 10, 23, 14, 50, 21, 683097) role='user'\n"
     ]
    }
   ],
   "source": [
    "#Delete user\n",
    "\n",
    "service = CRUDUser(db)\n",
    "user_obj = service.remove(id=5)\n",
    "print(user_obj)"
   ]
  },
  {
   "cell_type": "code",
   "execution_count": null,
   "id": "176756d0",
   "metadata": {},
   "outputs": [],
   "source": []
  }
 ],
 "metadata": {
  "kernelspec": {
   "display_name": "wormcat3-web",
   "language": "python",
   "name": "python3"
  },
  "language_info": {
   "codemirror_mode": {
    "name": "ipython",
    "version": 3
   },
   "file_extension": ".py",
   "mimetype": "text/x-python",
   "name": "python",
   "nbconvert_exporter": "python",
   "pygments_lexer": "ipython3",
   "version": "3.12.9"
  }
 },
 "nbformat": 4,
 "nbformat_minor": 5
}
