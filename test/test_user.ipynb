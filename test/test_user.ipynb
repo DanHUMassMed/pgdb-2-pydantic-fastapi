{
 "cells": [
  {
   "cell_type": "code",
   "execution_count": 1,
   "id": "ee283d27",
   "metadata": {},
   "outputs": [],
   "source": [
    "import sys\n",
    "sys.path.append('/Users/dan/Code/Python/pg_scaffold/generated')"
   ]
  },
  {
   "cell_type": "code",
   "execution_count": 2,
   "id": "114e68e9",
   "metadata": {},
   "outputs": [],
   "source": [
    "\n",
    "from app.core.db import SessionLocal\n",
    "\n",
    "db = SessionLocal()\n",
    "skip = 0\n",
    "limit = 100"
   ]
  },
  {
   "cell_type": "code",
   "execution_count": 3,
   "id": "e0a3a367",
   "metadata": {},
   "outputs": [],
   "source": [
    "\n",
    "from typing import List\n",
    "from passlib.context import CryptContext\n",
    "from fastapi import APIRouter, Depends, HTTPException, Query\n",
    "from sqlalchemy.orm import Session\n",
    "\n",
    "from app.crud.user import CRUDUser\n",
    "from app.schemas import user as user_schema\n",
    "\n",
    "pwd_context = CryptContext(schemes=[\"argon2\"], deprecated=\"auto\")"
   ]
  },
  {
   "cell_type": "code",
   "execution_count": 6,
   "id": "049e434c",
   "metadata": {},
   "outputs": [
    {
     "name": "stdout",
     "output_type": "stream",
     "text": [
      "{\n",
      "  \"id\": 3,\n",
      "  \"first_name\": \"tom\",\n",
      "  \"last_name\": \"foley\",\n",
      "  \"email\": \"dphiggins3@gmail.com\",\n",
      "  \"password\": \"$argon2id$v=19$m=65536,t=3,p=4$WSuldE7JOed8b23N2RvjHA$4N7zzKJ9zVcKZOsA10Swx1E1STo7bBDPKguAks5a6Ag\",\n",
      "  \"organization\": null,\n",
      "  \"magic_link_token\": null,\n",
      "  \"magic_link_expires_at\": null,\n",
      "  \"last_login_at\": null,\n",
      "  \"is_verified\": false,\n",
      "  \"registered_at\": \"2025-10-23T12:07:24.083742\",\n",
      "  \"role\": \"user\"\n",
      "}\n"
     ]
    }
   ],
   "source": [
    "#Get user by email\n",
    "\n",
    "user_json = {\"email\": \"dphiggins3@gmail.com\"}\n",
    "\n",
    "errors = {}\n",
    "filters = {\"email\":user_json[\"email\"]}\n",
    "service = CRUDUser(db)\n",
    "user_objs = service.get_many_like(filters)\n",
    "\n",
    "# If we found an email check the password\n",
    "if user_objs:\n",
    "    user_obj = user_objs[0]\n",
    "    print(user_objs[0].model_dump_json(indent=2))"
   ]
  },
  {
   "cell_type": "code",
   "execution_count": 7,
   "id": "2c16bdf6",
   "metadata": {},
   "outputs": [
    {
     "name": "stdout",
     "output_type": "stream",
     "text": [
      "{\n",
      "  \"id\": 3,\n",
      "  \"first_name\": \"tom\",\n",
      "  \"last_name\": \"foley\",\n",
      "  \"email\": \"dphiggins3@gmail.com\",\n",
      "  \"password\": \"$argon2id$v=19$m=65536,t=3,p=4$WSuldE7JOed8b23N2RvjHA$4N7zzKJ9zVcKZOsA10Swx1E1STo7bBDPKguAks5a6Ag\",\n",
      "  \"organization\": null,\n",
      "  \"magic_link_token\": null,\n",
      "  \"magic_link_expires_at\": null,\n",
      "  \"last_login_at\": null,\n",
      "  \"is_verified\": false,\n",
      "  \"registered_at\": \"2025-10-23T12:07:24.083742\",\n",
      "  \"role\": \"user\"\n",
      "}\n"
     ]
    }
   ],
   "source": [
    "#Get user by id\n",
    "\n",
    "errors = {}\n",
    "service = CRUDUser(db)\n",
    "user_obj = service.get_by_id(id=3)\n",
    "print(user_obj.model_dump_json(indent=2))"
   ]
  },
  {
   "cell_type": "code",
   "execution_count": 8,
   "id": "21af519b",
   "metadata": {},
   "outputs": [
    {
     "name": "stdout",
     "output_type": "stream",
     "text": [
      "{\n",
      "  \"id\": 1,\n",
      "  \"first_name\": \"Daniel\",\n",
      "  \"last_name\": \"Higgins\",\n",
      "  \"email\": \"dphiggins@gmail.com\",\n",
      "  \"password\": \"$argon2id$v=19$m=65536,t=3,p=4$DUHIOacUImTMOQcAoBRirA$1uHpel4jIEdUw8yBZ9LtXU8hc+Wuhpg7MuFa+Z5qoWY\",\n",
      "  \"organization\": \"Tech Corp\",\n",
      "  \"magic_link_token\": null,\n",
      "  \"magic_link_expires_at\": null,\n",
      "  \"last_login_at\": null,\n",
      "  \"is_verified\": true,\n",
      "  \"registered_at\": \"2025-10-22T21:41:41.424850\",\n",
      "  \"role\": \"user\"\n",
      "}\n"
     ]
    }
   ],
   "source": [
    "#Get all users\n",
    "\n",
    "errors = {}\n",
    "service = CRUDUser(db)\n",
    "user_objs = service.get_many()\n",
    "\n",
    "# If we found an email check the password\n",
    "if user_objs:\n",
    "    user_obj = user_objs[0]\n",
    "    print(user_objs[0].model_dump_json(indent=2))"
   ]
  },
  {
   "cell_type": "code",
   "execution_count": 9,
   "id": "62e93fcc",
   "metadata": {},
   "outputs": [
    {
     "name": "stdout",
     "output_type": "stream",
     "text": [
      "{\n",
      "  \"id\": 6,\n",
      "  \"first_name\": \"tom\",\n",
      "  \"last_name\": \"foley\",\n",
      "  \"email\": \"dphiggins4@gmail.com\",\n",
      "  \"password\": \"$argon2id$v=19$m=65536,t=3,p=4$BYAQonTOWeud8z6HECKklA$FWbOsJ2bTIETWOh9gO4+IT+3mOOIkNT5JmRCO2ANMMM\",\n",
      "  \"organization\": null,\n",
      "  \"magic_link_token\": null,\n",
      "  \"magic_link_expires_at\": null,\n",
      "  \"last_login_at\": null,\n",
      "  \"is_verified\": false,\n",
      "  \"registered_at\": \"2025-10-23T15:55:41.454106\",\n",
      "  \"role\": \"user\"\n",
      "}\n"
     ]
    }
   ],
   "source": [
    "# Create a new user\n",
    "\n",
    "user_json = {\"first_name\":\"tom\",\n",
    "            \"last_name\": \"foley\",\n",
    "            \"email\": \"dphiggins4@gmail.com\",\n",
    "            \"password\": \"Password\"}\n",
    "\n",
    "\n",
    "user_json[\"password\"] = pwd_context.hash(user_json[\"password\"])\n",
    "\n",
    "db_obj = None\n",
    "try:\n",
    "    user_in = user_schema.UserCreate.model_validate(user_json)\n",
    "    service = CRUDUser(db)\n",
    "    db_obj = service.create(obj_in=user_in)\n",
    "except Exception as e:\n",
    "        db.rollback()  # Rollback the transaction in case of error\n",
    "        raise HTTPException(status_code=500, detail=str(e))\n",
    "\n",
    "print(db_obj.model_dump_json(indent=2))"
   ]
  },
  {
   "cell_type": "code",
   "execution_count": 10,
   "id": "d855f75e",
   "metadata": {},
   "outputs": [
    {
     "ename": "ValidationError",
     "evalue": "1 validation error for UserRead\n  Input should be a valid dictionary or object to extract fields from [type=model_attributes_type, input_value=None, input_type=NoneType]\n    For further information visit https://errors.pydantic.dev/2.11/v/model_attributes_type",
     "output_type": "error",
     "traceback": [
      "\u001b[31m---------------------------------------------------------------------------\u001b[39m",
      "\u001b[31mValidationError\u001b[39m                           Traceback (most recent call last)",
      "\u001b[36mCell\u001b[39m\u001b[36m \u001b[39m\u001b[32mIn[10]\u001b[39m\u001b[32m, line 5\u001b[39m\n\u001b[32m      3\u001b[39m errors = {}\n\u001b[32m      4\u001b[39m service = CRUDUser(db)\n\u001b[32m----> \u001b[39m\u001b[32m5\u001b[39m user_obj = service.get_by_id(\u001b[38;5;28mid\u001b[39m=\u001b[32m5\u001b[39m)\n\u001b[32m      6\u001b[39m \u001b[38;5;28mprint\u001b[39m(user_obj.model_dump_json(indent=\u001b[32m2\u001b[39m))\n",
      "\u001b[36mFile \u001b[39m\u001b[32m~/Code/Python/pg_scaffold/generated/app/crud/base.py:42\u001b[39m, in \u001b[36mCRUDBase.get_by_id\u001b[39m\u001b[34m(self, id)\u001b[39m\n\u001b[32m     40\u001b[39m query = \u001b[38;5;28mself\u001b[39m._get_first_hook(query)\n\u001b[32m     41\u001b[39m db_obj = query.filter(\u001b[38;5;28mself\u001b[39m.model.id == \u001b[38;5;28mid\u001b[39m).first()\n\u001b[32m---> \u001b[39m\u001b[32m42\u001b[39m \u001b[38;5;28;01mreturn\u001b[39;00m \u001b[38;5;28mself\u001b[39m.ReadSchema.model_validate(db_obj)\n",
      "\u001b[36mFile \u001b[39m\u001b[32m~/miniforge3/envs/wormcat3-web/lib/python3.12/site-packages/pydantic/main.py:703\u001b[39m, in \u001b[36mBaseModel.model_validate\u001b[39m\u001b[34m(cls, obj, strict, from_attributes, context, by_alias, by_name)\u001b[39m\n\u001b[32m    697\u001b[39m \u001b[38;5;28;01mif\u001b[39;00m by_alias \u001b[38;5;129;01mis\u001b[39;00m \u001b[38;5;28;01mFalse\u001b[39;00m \u001b[38;5;129;01mand\u001b[39;00m by_name \u001b[38;5;129;01mis\u001b[39;00m \u001b[38;5;129;01mnot\u001b[39;00m \u001b[38;5;28;01mTrue\u001b[39;00m:\n\u001b[32m    698\u001b[39m     \u001b[38;5;28;01mraise\u001b[39;00m PydanticUserError(\n\u001b[32m    699\u001b[39m         \u001b[33m'\u001b[39m\u001b[33mAt least one of `by_alias` or `by_name` must be set to True.\u001b[39m\u001b[33m'\u001b[39m,\n\u001b[32m    700\u001b[39m         code=\u001b[33m'\u001b[39m\u001b[33mvalidate-by-alias-and-name-false\u001b[39m\u001b[33m'\u001b[39m,\n\u001b[32m    701\u001b[39m     )\n\u001b[32m--> \u001b[39m\u001b[32m703\u001b[39m \u001b[38;5;28;01mreturn\u001b[39;00m \u001b[38;5;28mcls\u001b[39m.__pydantic_validator__.validate_python(\n\u001b[32m    704\u001b[39m     obj, strict=strict, from_attributes=from_attributes, context=context, by_alias=by_alias, by_name=by_name\n\u001b[32m    705\u001b[39m )\n",
      "\u001b[31mValidationError\u001b[39m: 1 validation error for UserRead\n  Input should be a valid dictionary or object to extract fields from [type=model_attributes_type, input_value=None, input_type=NoneType]\n    For further information visit https://errors.pydantic.dev/2.11/v/model_attributes_type"
     ]
    }
   ],
   "source": [
    "#Get user by id\n",
    "\n",
    "errors = {}\n",
    "service = CRUDUser(db)\n",
    "user_obj = service.get_by_id(id=5)\n",
    "print(user_obj.model_dump_json(indent=2))"
   ]
  },
  {
   "cell_type": "code",
   "execution_count": 5,
   "id": "95efba80",
   "metadata": {},
   "outputs": [
    {
     "ename": "TypeError",
     "evalue": "'NoneType' object is not iterable",
     "output_type": "error",
     "traceback": [
      "\u001b[31m---------------------------------------------------------------------------\u001b[39m",
      "\u001b[31mTypeError\u001b[39m                                 Traceback (most recent call last)",
      "\u001b[36mCell\u001b[39m\u001b[36m \u001b[39m\u001b[32mIn[5]\u001b[39m\u001b[32m, line 8\u001b[39m\n\u001b[32m      2\u001b[39m user_json = {\u001b[33m\"\u001b[39m\u001b[33mid\u001b[39m\u001b[33m\"\u001b[39m:\u001b[32m5\u001b[39m,\n\u001b[32m      3\u001b[39m              \u001b[33m\"\u001b[39m\u001b[33mfirst_name\u001b[39m\u001b[33m\"\u001b[39m:\u001b[33m\"\u001b[39m\u001b[33mtommy\u001b[39m\u001b[33m\"\u001b[39m,\n\u001b[32m      4\u001b[39m             \u001b[33m\"\u001b[39m\u001b[33mlast_name\u001b[39m\u001b[33m\"\u001b[39m: \u001b[33m\"\u001b[39m\u001b[33mfoley\u001b[39m\u001b[33m\"\u001b[39m,\n\u001b[32m      5\u001b[39m             \u001b[33m\"\u001b[39m\u001b[33memail\u001b[39m\u001b[33m\"\u001b[39m: \u001b[33m\"\u001b[39m\u001b[33mdphiggins4@gmail.com\u001b[39m\u001b[33m\"\u001b[39m,\n\u001b[32m      6\u001b[39m             \u001b[33m\"\u001b[39m\u001b[33mpassword\u001b[39m\u001b[33m\"\u001b[39m: \u001b[33m\"\u001b[39m\u001b[33mPassword\u001b[39m\u001b[33m\"\u001b[39m}\n\u001b[32m      7\u001b[39m service = CRUDUser(db)\n\u001b[32m----> \u001b[39m\u001b[32m8\u001b[39m user_obj = service.update(obj_in=user_schema.UserUpdate.model_validate(user_json))\n\u001b[32m      9\u001b[39m \u001b[38;5;28mprint\u001b[39m(user_obj.model_dump_json(indent=\u001b[32m2\u001b[39m))\n",
      "\u001b[36mFile \u001b[39m\u001b[32m~/Code/Python/pg_scaffold/generated/app/crud/base.py:87\u001b[39m, in \u001b[36mCRUDBase.update\u001b[39m\u001b[34m(self, obj_in)\u001b[39m\n\u001b[32m     84\u001b[39m obj_data = jsonable_encoder(db_obj)\n\u001b[32m     85\u001b[39m update_data = obj_in \u001b[38;5;28;01mif\u001b[39;00m \u001b[38;5;28misinstance\u001b[39m(obj_in, \u001b[38;5;28mdict\u001b[39m) \u001b[38;5;28;01melse\u001b[39;00m obj_in.dict(exclude_unset=\u001b[38;5;28;01mTrue\u001b[39;00m)\n\u001b[32m---> \u001b[39m\u001b[32m87\u001b[39m \u001b[38;5;28;01mfor\u001b[39;00m field \u001b[38;5;129;01min\u001b[39;00m obj_data:\n\u001b[32m     88\u001b[39m     \u001b[38;5;28;01mif\u001b[39;00m field \u001b[38;5;129;01min\u001b[39;00m update_data:\n\u001b[32m     89\u001b[39m         \u001b[38;5;28msetattr\u001b[39m(db_obj, field, update_data[field])\n",
      "\u001b[31mTypeError\u001b[39m: 'NoneType' object is not iterable"
     ]
    }
   ],
   "source": [
    "#Update user\n",
    "user_json = {\"id\":5,\n",
    "             \"first_name\":\"tommy\",\n",
    "            \"last_name\": \"foley\",\n",
    "            \"email\": \"dphiggins4@gmail.com\",\n",
    "            \"password\": \"Password\"}\n",
    "service = CRUDUser(db)\n",
    "user_obj = service.update(obj_in=user_schema.UserUpdate.model_validate(user_json))\n",
    "print(user_obj.model_dump_json(indent=2))\n"
   ]
  },
  {
   "cell_type": "code",
   "execution_count": 11,
   "id": "69bf6f9d",
   "metadata": {},
   "outputs": [
    {
     "ename": "UnmappedInstanceError",
     "evalue": "Class 'builtins.NoneType' is not mapped",
     "output_type": "error",
     "traceback": [
      "\u001b[31m---------------------------------------------------------------------------\u001b[39m",
      "\u001b[31mAttributeError\u001b[39m                            Traceback (most recent call last)",
      "\u001b[36mFile \u001b[39m\u001b[32m~/miniforge3/envs/wormcat3-web/lib/python3.12/site-packages/sqlalchemy/orm/session.py:3538\u001b[39m, in \u001b[36mSession.delete\u001b[39m\u001b[34m(self, instance)\u001b[39m\n\u001b[32m   3537\u001b[39m \u001b[38;5;28;01mtry\u001b[39;00m:\n\u001b[32m-> \u001b[39m\u001b[32m3538\u001b[39m     state = attributes.instance_state(instance)\n\u001b[32m   3539\u001b[39m \u001b[38;5;28;01mexcept\u001b[39;00m exc.NO_STATE \u001b[38;5;28;01mas\u001b[39;00m err:\n",
      "\u001b[31mAttributeError\u001b[39m: 'NoneType' object has no attribute '_sa_instance_state'",
      "\nThe above exception was the direct cause of the following exception:\n",
      "\u001b[31mUnmappedInstanceError\u001b[39m                     Traceback (most recent call last)",
      "\u001b[36mCell\u001b[39m\u001b[36m \u001b[39m\u001b[32mIn[11]\u001b[39m\u001b[32m, line 4\u001b[39m\n\u001b[32m      1\u001b[39m \u001b[38;5;66;03m#Delete user\u001b[39;00m\n\u001b[32m      3\u001b[39m service = CRUDUser(db)\n\u001b[32m----> \u001b[39m\u001b[32m4\u001b[39m user_obj = service.remove(\u001b[38;5;28mid\u001b[39m=\u001b[32m5\u001b[39m)\n\u001b[32m      5\u001b[39m \u001b[38;5;28mprint\u001b[39m(user_obj.model_dump_json(indent=\u001b[32m2\u001b[39m))\n",
      "\u001b[36mFile \u001b[39m\u001b[32m~/Code/Python/pg_scaffold/generated/app/crud/base.py:99\u001b[39m, in \u001b[36mCRUDBase.remove\u001b[39m\u001b[34m(self, id)\u001b[39m\n\u001b[32m     96\u001b[39m \u001b[38;5;28;01mdef\u001b[39;00m\u001b[38;5;250m \u001b[39m\u001b[34mremove\u001b[39m(\u001b[38;5;28mself\u001b[39m, *, \u001b[38;5;28mid\u001b[39m: \u001b[38;5;28mint\u001b[39m) -> Optional[ReadSchemaType]:\n\u001b[32m     97\u001b[39m     \u001b[38;5;66;03m#db_obj = self.db.query(self.model).get(id)\u001b[39;00m\n\u001b[32m     98\u001b[39m     db_obj = \u001b[38;5;28mself\u001b[39m.db.get(\u001b[38;5;28mself\u001b[39m.model, \u001b[38;5;28mid\u001b[39m)\n\u001b[32m---> \u001b[39m\u001b[32m99\u001b[39m     \u001b[38;5;28mself\u001b[39m.db.delete(db_obj)\n\u001b[32m    100\u001b[39m     \u001b[38;5;28mself\u001b[39m.db.commit()\n\u001b[32m    101\u001b[39m     \u001b[38;5;28;01mreturn\u001b[39;00m \u001b[38;5;28mself\u001b[39m.ReadSchema.model_validate(db_obj)\n",
      "\u001b[36mFile \u001b[39m\u001b[32m~/miniforge3/envs/wormcat3-web/lib/python3.12/site-packages/sqlalchemy/orm/session.py:3540\u001b[39m, in \u001b[36mSession.delete\u001b[39m\u001b[34m(self, instance)\u001b[39m\n\u001b[32m   3538\u001b[39m     state = attributes.instance_state(instance)\n\u001b[32m   3539\u001b[39m \u001b[38;5;28;01mexcept\u001b[39;00m exc.NO_STATE \u001b[38;5;28;01mas\u001b[39;00m err:\n\u001b[32m-> \u001b[39m\u001b[32m3540\u001b[39m     \u001b[38;5;28;01mraise\u001b[39;00m exc.UnmappedInstanceError(instance) \u001b[38;5;28;01mfrom\u001b[39;00m\u001b[38;5;250m \u001b[39m\u001b[34;01merr\u001b[39;00m\n\u001b[32m   3542\u001b[39m \u001b[38;5;28mself\u001b[39m._delete_impl(state, instance, head=\u001b[38;5;28;01mTrue\u001b[39;00m)\n",
      "\u001b[31mUnmappedInstanceError\u001b[39m: Class 'builtins.NoneType' is not mapped"
     ]
    }
   ],
   "source": [
    "#Delete user\n",
    "\n",
    "service = CRUDUser(db)\n",
    "user_obj = service.remove(id=5)\n",
    "print(user_obj.model_dump_json(indent=2))"
   ]
  },
  {
   "cell_type": "code",
   "execution_count": null,
   "id": "176756d0",
   "metadata": {},
   "outputs": [],
   "source": []
  }
 ],
 "metadata": {
  "kernelspec": {
   "display_name": "wormcat3-web",
   "language": "python",
   "name": "python3"
  },
  "language_info": {
   "codemirror_mode": {
    "name": "ipython",
    "version": 3
   },
   "file_extension": ".py",
   "mimetype": "text/x-python",
   "name": "python",
   "nbconvert_exporter": "python",
   "pygments_lexer": "ipython3",
   "version": "3.12.9"
  }
 },
 "nbformat": 4,
 "nbformat_minor": 5
}
