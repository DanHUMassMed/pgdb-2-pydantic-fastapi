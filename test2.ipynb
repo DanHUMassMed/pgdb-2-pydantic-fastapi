{
 "cells": [
  {
   "cell_type": "code",
   "execution_count": 3,
   "metadata": {},
   "outputs": [],
   "source": [
    "import inflect\n",
    "\n",
    "inflector = inflect.engine()\n",
    "\n",
    "def is_plural(word):\n",
    "    return inflector.singular_noun(word) is not False\n",
    "\n",
    "def singular(word):\n",
    "    if is_plural(word):\n",
    "        return inflector.singular_noun(word)\n",
    "    return word\n",
    "\n",
    "def plural(word):\n",
    "    if is_plural(word):\n",
    "        return word\n",
    "    return inflector.plural(word)\n",
    "\n",
    "def table_name_to_class_name(table_name: str) -> str:\n",
    "    \"\"\"\n",
    "    Convert a snake_case table name (typically plural) to a PascalCase class name (singular).\n",
    "    Example: 'user_profiles' -> 'UserProfile'\n",
    "    \"\"\"\n",
    "    parts: list[str] = table_name.split('_')\n",
    "\n",
    "    if parts:\n",
    "        last_word = singular(parts[-1])\n",
    "        parts[-1] = last_word # type: ignore\n",
    "\n",
    "    return ''.join(word.capitalize() for word in parts)\n"
   ]
  },
  {
   "cell_type": "code",
   "execution_count": 5,
   "metadata": {},
   "outputs": [
    {
     "name": "stdout",
     "output_type": "stream",
     "text": [
      "CatsAndDog\n",
      "Cat\n"
     ]
    }
   ],
   "source": [
    "print(table_name_to_class_name(\"cats_and_dogs\"))\n",
    "print(table_name_to_class_name(\"cat\"))"
   ]
  },
  {
   "cell_type": "code",
   "execution_count": 31,
   "metadata": {},
   "outputs": [
    {
     "name": "stdout",
     "output_type": "stream",
     "text": [
      "cat\n",
      "cat\n"
     ]
    }
   ],
   "source": [
    "print(singular(\"cats\"))\n",
    "print(singular(\"cat\"))\n"
   ]
  },
  {
   "cell_type": "code",
   "execution_count": 23,
   "metadata": {},
   "outputs": [
    {
     "data": {
      "text/plain": [
       "'attendee'"
      ]
     },
     "execution_count": 23,
     "metadata": {},
     "output_type": "execute_result"
    }
   ],
   "source": [
    "inflector.singular_noun(\"attendees\") #=> False\n"
   ]
  },
  {
   "cell_type": "code",
   "execution_count": 13,
   "metadata": {},
   "outputs": [
    {
     "ename": "TypeCheckError",
     "evalue": "argument \"text\" (bool) is not an instance of inflect.Word",
     "output_type": "error",
     "traceback": [
      "\u001b[31m---------------------------------------------------------------------------\u001b[39m",
      "\u001b[31mTypeCheckError\u001b[39m                            Traceback (most recent call last)",
      "\u001b[36mCell\u001b[39m\u001b[36m \u001b[39m\u001b[32mIn[13]\u001b[39m\u001b[32m, line 1\u001b[39m\n\u001b[32m----> \u001b[39m\u001b[32m1\u001b[39m \u001b[38;5;28mprint\u001b[39m(inflector.plural(inflector.singular_noun(\u001b[33m\"\u001b[39m\u001b[33mcat\u001b[39m\u001b[33m\"\u001b[39m) , \u001b[32m2\u001b[39m))    \u001b[38;5;66;03m# \"cats\"\u001b[39;00m\n\u001b[32m      2\u001b[39m \u001b[38;5;28mprint\u001b[39m(inflector.plural(inflector.singular_noun(\u001b[33m\"\u001b[39m\u001b[33mcats\u001b[39m\u001b[33m\"\u001b[39m), \u001b[32m2\u001b[39m))    \u001b[38;5;66;03m# \"cat\"\u001b[39;00m\n\u001b[32m      3\u001b[39m \u001b[38;5;28mprint\u001b[39m(inflector.plural(inflector.singular_noun(\u001b[33m\"\u001b[39m\u001b[33mcat\u001b[39m\u001b[33m\"\u001b[39m ), \u001b[32m1\u001b[39m))\n",
      "\u001b[36mFile \u001b[39m\u001b[32m~/miniforge3/envs/wormcat3-web/lib/python3.12/site-packages/inflect/__init__.py:2389\u001b[39m, in \u001b[36mplural\u001b[39m\u001b[34m(self, text, count)\u001b[39m\n\u001b[32m   2385\u001b[39m     \u001b[38;5;28;01melse\u001b[39;00m:\n\u001b[32m   2386\u001b[39m         \u001b[38;5;28;01mreturn\u001b[39;00m \u001b[33m\"\u001b[39m\u001b[33m\"\u001b[39m, \u001b[33m\"\u001b[39m\u001b[33m\"\u001b[39m, \u001b[33m\"\u001b[39m\u001b[33m\"\u001b[39m\n\u001b[32m   2388\u001b[39m \u001b[38;5;129m@typechecked\u001b[39m\n\u001b[32m-> \u001b[39m\u001b[32m2389\u001b[39m \u001b[38;5;28;01mdef\u001b[39;00m\u001b[38;5;250m \u001b[39m\u001b[34mplural\u001b[39m(\u001b[38;5;28mself\u001b[39m, text: Word, count: Optional[Union[\u001b[38;5;28mstr\u001b[39m, \u001b[38;5;28mint\u001b[39m, Any]] = \u001b[38;5;28;01mNone\u001b[39;00m) -> \u001b[38;5;28mstr\u001b[39m:\n\u001b[32m   2390\u001b[39m \u001b[38;5;250m    \u001b[39m\u001b[33;03m\"\"\"\u001b[39;00m\n\u001b[32m   2391\u001b[39m \u001b[33;03m    Return the plural of text.\u001b[39;00m\n\u001b[32m   2392\u001b[39m \n\u001b[32m   (...)\u001b[39m\u001b[32m   2399\u001b[39m \n\u001b[32m   2400\u001b[39m \u001b[33;03m    \"\"\"\u001b[39;00m\n\u001b[32m   2401\u001b[39m     pre, word, post = \u001b[38;5;28mself\u001b[39m.partition_word(text)\n",
      "\u001b[36mFile \u001b[39m\u001b[32m~/miniforge3/envs/wormcat3-web/lib/python3.12/site-packages/typeguard/_functions.py:137\u001b[39m, in \u001b[36mcheck_argument_types\u001b[39m\u001b[34m(func_name, arguments, memo)\u001b[39m\n\u001b[32m    134\u001b[39m         \u001b[38;5;28;01mraise\u001b[39;00m exc\n\u001b[32m    136\u001b[39m \u001b[38;5;28;01mtry\u001b[39;00m:\n\u001b[32m--> \u001b[39m\u001b[32m137\u001b[39m     check_type_internal(value, annotation, memo)\n\u001b[32m    138\u001b[39m \u001b[38;5;28;01mexcept\u001b[39;00m TypeCheckError \u001b[38;5;28;01mas\u001b[39;00m exc:\n\u001b[32m    139\u001b[39m     qualname = qualified_name(value, add_class_prefix=\u001b[38;5;28;01mTrue\u001b[39;00m)\n",
      "\u001b[36mFile \u001b[39m\u001b[32m~/miniforge3/envs/wormcat3-web/lib/python3.12/site-packages/typeguard/_checkers.py:965\u001b[39m, in \u001b[36mcheck_type_internal\u001b[39m\u001b[34m(value, annotation, memo)\u001b[39m\n\u001b[32m    963\u001b[39m \u001b[38;5;28;01mif\u001b[39;00m isclass(origin_type):\n\u001b[32m    964\u001b[39m     \u001b[38;5;28;01mif\u001b[39;00m \u001b[38;5;129;01mnot\u001b[39;00m \u001b[38;5;28misinstance\u001b[39m(value, origin_type):\n\u001b[32m--> \u001b[39m\u001b[32m965\u001b[39m         \u001b[38;5;28;01mraise\u001b[39;00m TypeCheckError(\u001b[33mf\u001b[39m\u001b[33m\"\u001b[39m\u001b[33mis not an instance of \u001b[39m\u001b[38;5;132;01m{\u001b[39;00mqualified_name(origin_type)\u001b[38;5;132;01m}\u001b[39;00m\u001b[33m\"\u001b[39m)\n\u001b[32m    966\u001b[39m \u001b[38;5;28;01melif\u001b[39;00m \u001b[38;5;28mtype\u001b[39m(origin_type) \u001b[38;5;129;01mis\u001b[39;00m \u001b[38;5;28mstr\u001b[39m:  \u001b[38;5;66;03m# noqa: E721\u001b[39;00m\n\u001b[32m    967\u001b[39m     warnings.warn(\n\u001b[32m    968\u001b[39m         \u001b[33mf\u001b[39m\u001b[33m\"\u001b[39m\u001b[33mSkipping type check against \u001b[39m\u001b[38;5;132;01m{\u001b[39;00morigin_type\u001b[38;5;132;01m!r}\u001b[39;00m\u001b[33m; this looks like a \u001b[39m\u001b[33m\"\u001b[39m\n\u001b[32m    969\u001b[39m         \u001b[33mf\u001b[39m\u001b[33m\"\u001b[39m\u001b[33mstring-form forward reference imported from another module\u001b[39m\u001b[33m\"\u001b[39m,\n\u001b[32m    970\u001b[39m         TypeHintWarning,\n\u001b[32m    971\u001b[39m         stacklevel=get_stacklevel(),\n\u001b[32m    972\u001b[39m     )\n",
      "\u001b[31mTypeCheckError\u001b[39m: argument \"text\" (bool) is not an instance of inflect.Word"
     ]
    }
   ],
   "source": [
    "print(inflector.plural(inflector.singular_noun(\"cat\") , 2))    # \"cats\"\n",
    "print(inflector.plural(inflector.singular_noun(\"cats\"), 2))    # \"cat\"\n",
    "print(inflector.plural(inflector.singular_noun(\"cat\" ), 1))    # \"cat\""
   ]
  },
  {
   "cell_type": "code",
   "execution_count": 6,
   "metadata": {},
   "outputs": [],
   "source": [
    "import sys\n",
    "sys.path.append('/Users/dan/Code/Python/pg_scaffold')\n",
    "from app.core.db import SessionLocal\n",
    "from app.crud import conferences, attendees, posters, judges, judging_assignments, criteria, scores, score_criteria\n",
    "from app.schemas.conferences import ConferencesCreate\n",
    "from app.schemas.attendees import AttendeesCreate\n",
    "from app.schemas.posters import PostersCreate\n",
    "from app.schemas.judges import JudgesCreate\n",
    "from app.schemas.criteria import CriteriaCreate\n",
    "from app.schemas.scores import ScoresCreate\n",
    "import datetime"
   ]
  },
  {
   "cell_type": "code",
   "execution_count": 7,
   "metadata": {},
   "outputs": [],
   "source": [
    "db = SessionLocal()"
   ]
  },
  {
   "cell_type": "markdown",
   "metadata": {},
   "source": [
    "## 1. Create Conference"
   ]
  },
  {
   "cell_type": "code",
   "execution_count": 10,
   "metadata": {},
   "outputs": [
    {
     "name": "stdout",
     "output_type": "stream",
     "text": [
      "Created conference: Comprehensive Test Conference\n"
     ]
    }
   ],
   "source": [
    "conference = ConferencesCreate(\n",
    "    name=\"Comprehensive Test Conference\", \n",
    "    location=\"Virtual\", \n",
    "    start_date=datetime.date(2025, 9, 1), \n",
    "    end_date=datetime.date(2025, 9, 5)\n",
    ")\n",
    "\n",
    "db_conference = conferences.conferences.create(db, obj_in=conference)\n",
    "print(f\"Created conference: {db_conference.name}\")"
   ]
  },
  {
   "cell_type": "markdown",
   "metadata": {},
   "source": [
    "## 2. Create Attendees"
   ]
  },
  {
   "cell_type": "code",
   "execution_count": null,
   "metadata": {},
   "outputs": [],
   "source": [
    "attendee1 = AttendeesCreate(\n",
    "    first_name=\"Alice\", \n",
    "    last_name=\"Smith\", \n",
    "    email=\"alice.smith@example.com\", \n",
    "    conference_id=db_conference.id\n",
    ")\n",
    "db_attendee1 = attendees.create(db, obj_in=attendee1)\n",
    "print(f\"Created attendee: {db_attendee1.first_name} {db_attendee1.last_name}\")\n",
    "\n",
    "attendee2 = AttendeesCreate(\n",
    "    first_name=\"Bob\", \n",
    "    last_name=\"Johnson\", \n",
    "    email=\"bob.johnson@example.com\", \n",
    "    conference_id=db_conference.id\n",
    ")\n",
    "db_attendee2 = attendees.create(db, obj_in=attendee2)\n",
    "print(f\"Created attendee: {db_attendee2.first_name} {db_attendee2.last_name}\")"
   ]
  },
  {
   "cell_type": "markdown",
   "metadata": {},
   "source": [
    "## 3. Create Poster"
   ]
  },
  {
   "cell_type": "code",
   "execution_count": null,
   "metadata": {},
   "outputs": [],
   "source": [
    "poster = PostersCreate(\n",
    "    board_location=\"B2\", \n",
    "    poster_title=\"A Study of Test-Driven Development\", \n",
    "    creator_id=db_attendee1.id\n",
    ")\n",
    "db_poster = posters.create(db, obj_in=poster)\n",
    "print(f\"Created poster: {db_poster.poster_title}\")"
   ]
  },
  {
   "cell_type": "markdown",
   "metadata": {},
   "source": [
    "## 4. Create Judge"
   ]
  },
  {
   "cell_type": "code",
   "execution_count": null,
   "metadata": {},
   "outputs": [],
   "source": [
    "judge = JudgesCreate(person_id=db_attendee2.id, accepted=True)\n",
    "db_judge = judges.create(db, obj_in=judge)\n",
    "print(f\"Created judge from attendee: {db_attendee2.first_name} {db_attendee2.last_name}\")"
   ]
  },
  {
   "cell_type": "markdown",
   "metadata": {},
   "source": [
    "## 5. Create Judging Assignment"
   ]
  },
  {
   "cell_type": "code",
   "execution_count": null,
   "metadata": {},
   "outputs": [],
   "source": [
    "assignment = JudgingAssignmentsCreate(judge_id=db_judge.id, poster_id=db_poster.id)\n",
    "db_assignment = judging_assignments.create(db, obj_in=assignment)\n",
    "print(f\"Created judging assignment for judge {db_judge.id} and poster {db_poster.id}\")"
   ]
  },
  {
   "cell_type": "markdown",
   "metadata": {},
   "source": [
    "## 6. Create Criteria"
   ]
  },
  {
   "cell_type": "code",
   "execution_count": null,
   "metadata": {},
   "outputs": [],
   "source": [
    "criteria1 = CriteriaCreate(name=\"Clarity\", max_score=10)\n",
    "db_criteria1 = criteria.create(db, obj_in=criteria1)\n",
    "print(f\"Created criteria: {db_criteria1.name}\")\n",
    "\n",
    "criteria2 = CriteriaCreate(name=\"Methodology\", max_score=15)\n",
    "db_criteria2 = criteria.create(db, obj_in=criteria2)\n",
    "print(f\"Created criteria: {db_criteria2.name}\")"
   ]
  },
  {
   "cell_type": "markdown",
   "metadata": {},
   "source": [
    "## 7. Create Score"
   ]
  },
  {
   "cell_type": "code",
   "execution_count": null,
   "metadata": {},
   "outputs": [],
   "source": [
    "score = ScoresCreate(assignment_id=db_assignment.id, comment=\"Good work!\")\n",
    "db_score = scores.create(db, obj_in=score)\n",
    "print(f\"Created score for assignment {db_assignment.id}\")"
   ]
  },
  {
   "cell_type": "markdown",
   "metadata": {},
   "source": [
    "## 8. Create Score Criteria"
   ]
  },
  {
   "cell_type": "code",
   "execution_count": null,
   "metadata": {},
   "outputs": [],
   "source": [
    "score_crit1 = ScoreCriteriaCreate(score_id=db_score.id, criterion_id=db_criteria1.id, score=8)\n",
    "db_score_crit1 = score_criteria.create(db, obj_in=score_crit1)\n",
    "print(f\"Created score criteria for score {db_score.id} and criteria {db_criteria1.name}\")\n",
    "\n",
    "score_crit2 = ScoreCriteriaCreate(score_id=db_score.id, criterion_id=db_criteria2.id, score=12)\n",
    "db_score_crit2 = score_criteria.create(db, obj_in=score_crit2)\n",
    "print(f\"Created score criteria for score {db_score.id} and criteria {db_criteria2.name}\")"
   ]
  },
  {
   "cell_type": "markdown",
   "metadata": {},
   "source": [
    "## 9. Read, Update, and Delete"
   ]
  },
  {
   "cell_type": "code",
   "execution_count": null,
   "metadata": {},
   "outputs": [],
   "source": [
    "# Read\n",
    "print(\"--- Reading Data ---\")\n",
    "print(conferences.get(db, id=db_conference.id))\n",
    "print(attendees.get(db, id=db_attendee1.id))\n",
    "print(posters.get(db, id=db_poster.id))\n",
    "print(judges.get(db, id=db_judge.id))\n",
    "print(judging_assignments.get(db, id=db_assignment.id))\n",
    "print(criteria.get(db, id=db_criteria1.id))\n",
    "print(scores.get(db, id=db_score.id))\n",
    "print(score_criteria.get(db, id=db_score_crit1.id))\n",
    "\n",
    "# Update\n",
    "print(\"--- Updating Data ---\")\n",
    "updated_poster = posters.update(db, db_obj=db_poster, obj_in={\"poster_title\": \"An Updated Study of TDD\"})\n",
    "print(f\"Updated poster title: {updated_poster.poster_title}\")\n",
    "\n",
    "# Delete\n",
    "print(\"--- Deleting Data ---\")\n",
    "score_criteria.remove(db, id=db_score_crit1.id)\n",
    "score_criteria.remove(db, id=db_score_crit2.id)\n",
    "scores.remove(db, id=db_score.id)\n",
    "criteria.remove(db, id=db_criteria1.id)\n",
    "criteria.remove(db, id=db_criteria2.id)\n",
    "judging_assignments.remove(db, id=db_assignment.id)\n",
    "judges.remove(db, id=db_judge.id)\n",
    "posters.remove(db, id=db_poster.id)\n",
    "attendees.remove(db, id=db_attendee1.id)\n",
    "attendees.remove(db, id=db_attendee2.id)\n",
    "conferences.remove(db, id=db_conference.id)\n",
    "print(\"Data deleted.\")\n",
    "\n",
    "# Verify Deletion\n",
    "print(\"--- Verifying Deletion ---\")\n",
    "print(conferences.get(db, id=db_conference.id))\n",
    "print(attendees.get(db, id=db_attendee1.id))\n",
    "print(posters.get(db, id=db_poster.id))"
   ]
  }
 ],
 "metadata": {
  "kernelspec": {
   "display_name": "wormcat3-web",
   "language": "python",
   "name": "python3"
  },
  "language_info": {
   "codemirror_mode": {
    "name": "ipython",
    "version": 3
   },
   "file_extension": ".py",
   "mimetype": "text/x-python",
   "name": "python",
   "nbconvert_exporter": "python",
   "pygments_lexer": "ipython3",
   "version": "3.12.9"
  }
 },
 "nbformat": 4,
 "nbformat_minor": 4
}
